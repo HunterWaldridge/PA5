{
 "cells": [
  {
   "cell_type": "markdown",
   "id": "0203e58e",
   "metadata": {},
   "source": [
    "# Programming Assignment 5\n",
    "## Hunter Waldridge\n",
    "## Bellarmine University\n",
    "### CS-150"
   ]
  },
  {
   "cell_type": "markdown",
   "id": "34b711cf",
   "metadata": {},
   "source": [
    "### a. Language Translator"
   ]
  },
  {
   "cell_type": "code",
   "execution_count": 47,
   "id": "23d154a6",
   "metadata": {},
   "outputs": [
    {
     "name": "stdout",
     "output_type": "stream",
     "text": [
      "Enter a word to translate from English to Spanish (Enter 0 to stop):hello\n",
      "The Spanish word for hello is HOLA\n",
      " \n",
      "Enter a word to translate from English to Spanish (Enter 0 to stop):bye\n",
      "The Spanish word for bye is ADIÓS\n",
      " \n",
      "Enter a word to translate from English to Spanish (Enter 0 to stop):cat\n",
      "The Spanish word for cat is GATO\n",
      " \n",
      "Enter a word to translate from English to Spanish (Enter 0 to stop):class\n",
      "The Spanish word for CLASS is not in this dictionary.\n",
      " \n",
      "Enter a word to translate from English to Spanish (Enter 0 to stop):chair\n",
      "The Spanish word for chair is SILLA\n",
      " \n",
      "Enter a word to translate from English to Spanish (Enter 0 to stop):0\n"
     ]
    }
   ],
   "source": [
    "words = {\n",
    "    'hello':'hola',\n",
    "    'bye':'adiós',\n",
    "    'dog':'perro',\n",
    "    'cat':'gato',\n",
    "    'chair':'silla',\n",
    "    'computer':'computadora',\n",
    "    'keyboard':'teclado',\n",
    "    'school':'escuela',\n",
    "    'glasses':'lentes',\n",
    "    'money':'dinero',\n",
    "    'food':'comida',\n",
    "    'nose':'nariz',\n",
    "    'eyes':'ojos',\n",
    "    'penguin':'pingüino',\n",
    "    'elephant':'elefante',\n",
    "    'talk':'hablar',\n",
    "    'teach':'enseñar',\n",
    "    'walk':'caminar',\n",
    "    'yes':'sí',\n",
    "    'bed':'cama'    \n",
    "}\n",
    "\n",
    "\n",
    "while True:\n",
    "    user_word = input(\"Enter a word to translate from English to Spanish (Enter 0 to stop):\")\n",
    "    for x in words:\n",
    "        if user_word == x:\n",
    "            print(f\"The Spanish word for {user_word} is {words[x].upper()}\")\n",
    "            print(\" \")\n",
    "    if user_word not in words and user_word!= \"0\":\n",
    "        print(f\"The Spanish word for {user_word.upper()} is not in this dictionary.\")\n",
    "        print(\" \")\n",
    "    if user_word == \"0\":\n",
    "        break"
   ]
  },
  {
   "cell_type": "markdown",
   "id": "9bda6b27",
   "metadata": {},
   "source": [
    "  ### b. Temperature Converter"
   ]
  },
  {
   "cell_type": "code",
   "execution_count": 70,
   "id": "6d20a59c",
   "metadata": {},
   "outputs": [
    {
     "name": "stdout",
     "output_type": "stream",
     "text": [
      "The coolest day of September had a temp of 21.666666666666668 degrees Celsius\n",
      " \n",
      "The second warmest day of September had a temp of 30.555555555555557 degrees Celsius\n"
     ]
    }
   ],
   "source": [
    "sept_temps = {\n",
    "    1:85, 2:83, 3:84, 4:84, 5:82, 6:87, 7:86, 8:85, 9:81, 10:82,\n",
    "    11:84, 12:87, 13: 89, 14:89, 15:84, 16:85, 17: 89, 18:89, 19:86, 20: 78,\n",
    "    21:78, 22:71, 23:71, 24:75, 25:74, 26:77, 27:85, 28:87, 29: 89, 30:86\n",
    "}\n",
    "\n",
    "for x in sept_temps:\n",
    "    sept_temps[x]=(sept_temps[x]-32)*(5/9) # Convert dict values to celsius\n",
    "\n",
    "stemps_list=list(sept_temps.values()) # Convert dict values to list\n",
    "no_duplicates_list=[]\n",
    "for i in stemps_list: # New list without duplicates in order to find second warmest day \n",
    "    if i not in no_duplicates_list:\n",
    "        no_duplicates_list.append(i)\n",
    "no_duplicates_list.sort() # Sorts list from min-max in order to find second warmest day from index [-2]\n",
    "\n",
    "print(f\"The coolest day of September had a temp of {min(stemps_list)} degrees Celsius\")\n",
    "print(\" \") \n",
    "print(f\"The second warmest day of September had a temp of {no_duplicates_list[-2]} degrees Celsius\") \n",
    "# [-2] will be second to max value"
   ]
  },
  {
   "cell_type": "markdown",
   "id": "6b485354",
   "metadata": {},
   "source": [
    "### C. Set Operations & Examples"
   ]
  },
  {
   "cell_type": "code",
   "execution_count": 91,
   "id": "47d588ea",
   "metadata": {},
   "outputs": [],
   "source": [
    "# Example sets\n",
    "\n",
    "setA={0,20,40,60,80}\n",
    "setB={0,20,25,40,45,65,85,100,105,120,140,160}"
   ]
  },
  {
   "cell_type": "markdown",
   "id": "faadd546",
   "metadata": {},
   "source": [
    "1. symmetric difference: will return elements of the the sets that are not common"
   ]
  },
  {
   "cell_type": "code",
   "execution_count": 87,
   "id": "800bd962",
   "metadata": {},
   "outputs": [
    {
     "data": {
      "text/plain": [
       "{25, 45, 60, 65, 80, 85, 100, 105, 120, 140, 160}"
      ]
     },
     "execution_count": 87,
     "metadata": {},
     "output_type": "execute_result"
    }
   ],
   "source": [
    "setA^setB"
   ]
  },
  {
   "cell_type": "markdown",
   "id": "bbd08f45",
   "metadata": {},
   "source": [
    "2. isdisjoint(): Returns True if no items in 1st set are not present in the 2nd"
   ]
  },
  {
   "cell_type": "code",
   "execution_count": 88,
   "id": "07a3c522",
   "metadata": {},
   "outputs": [
    {
     "data": {
      "text/plain": [
       "False"
      ]
     },
     "execution_count": 88,
     "metadata": {},
     "output_type": "execute_result"
    }
   ],
   "source": [
    "setA.isdisjoint(setB)"
   ]
  },
  {
   "cell_type": "code",
   "execution_count": 89,
   "id": "58508273",
   "metadata": {},
   "outputs": [
    {
     "data": {
      "text/plain": [
       "True"
      ]
     },
     "execution_count": 89,
     "metadata": {},
     "output_type": "execute_result"
    }
   ],
   "source": [
    "setC = {0,1,2,3}\n",
    "setB = {4,5,6,7}\n",
    "\n",
    "setC.isdisjoint(setB)"
   ]
  },
  {
   "cell_type": "markdown",
   "id": "276a4140",
   "metadata": {},
   "source": [
    "3. intersection_update: removes all elements that are not present in both sets"
   ]
  },
  {
   "cell_type": "code",
   "execution_count": 92,
   "id": "505c883f",
   "metadata": {},
   "outputs": [
    {
     "name": "stdout",
     "output_type": "stream",
     "text": [
      "{0, 40, 20}\n",
      "{0, 65, 160, 100, 40, 105, 140, 45, 20, 85, 120, 25}\n"
     ]
    }
   ],
   "source": [
    "setA&=setB\n",
    "\n",
    "print(setA)\n",
    "print(setB)"
   ]
  },
  {
   "cell_type": "markdown",
   "id": "e2241010",
   "metadata": {},
   "source": [
    "4. symmetric_difference: returns a set that contains all items from both sets, but not the items that are present in both sets"
   ]
  },
  {
   "cell_type": "code",
   "execution_count": 94,
   "id": "8bc6d13d",
   "metadata": {},
   "outputs": [
    {
     "name": "stdout",
     "output_type": "stream",
     "text": [
      "{160, 65, 100, 105, 140, 45, 80, 85, 120, 25, 60}\n",
      "{0, 65, 160, 100, 40, 105, 140, 45, 20, 85, 120, 25}\n"
     ]
    }
   ],
   "source": [
    "setA={0,20,40,60,80}\n",
    "setB={0,20,25,40,45,65,85,100,105,120,140,160}\n",
    "\n",
    "setA^=setB\n",
    "\n",
    "print(setA)\n",
    "print(setB)"
   ]
  },
  {
   "cell_type": "markdown",
   "id": "74ff8ab8",
   "metadata": {},
   "source": [
    "5. remove() and discard() both remove an element from the set, but discard() will not generate an error if the element does not exist"
   ]
  },
  {
   "cell_type": "code",
   "execution_count": 95,
   "id": "6d680046",
   "metadata": {},
   "outputs": [
    {
     "data": {
      "text/plain": [
       "{25, 45, 60, 65, 80, 85, 100, 105, 120, 140}"
      ]
     },
     "execution_count": 95,
     "metadata": {},
     "output_type": "execute_result"
    }
   ],
   "source": [
    "setA.remove(160)\n",
    "setA"
   ]
  },
  {
   "cell_type": "code",
   "execution_count": 96,
   "id": "c3e711a1",
   "metadata": {},
   "outputs": [
    {
     "ename": "KeyError",
     "evalue": "200",
     "output_type": "error",
     "traceback": [
      "\u001b[0;31m---------------------------------------------------------------------------\u001b[0m",
      "\u001b[0;31mKeyError\u001b[0m                                  Traceback (most recent call last)",
      "\u001b[0;32m<ipython-input-96-f61a2c2d9149>\u001b[0m in \u001b[0;36m<module>\u001b[0;34m\u001b[0m\n\u001b[0;32m----> 1\u001b[0;31m \u001b[0msetA\u001b[0m\u001b[0;34m.\u001b[0m\u001b[0mremove\u001b[0m\u001b[0;34m(\u001b[0m\u001b[0;36m200\u001b[0m\u001b[0;34m)\u001b[0m\u001b[0;34m\u001b[0m\u001b[0;34m\u001b[0m\u001b[0m\n\u001b[0m",
      "\u001b[0;31mKeyError\u001b[0m: 200"
     ]
    }
   ],
   "source": [
    "setA.remove(200)"
   ]
  },
  {
   "cell_type": "code",
   "execution_count": 97,
   "id": "b83ba236",
   "metadata": {},
   "outputs": [],
   "source": [
    "setA.discard(200) #200 does not exist in set, but did not generate error"
   ]
  },
  {
   "cell_type": "code",
   "execution_count": 98,
   "id": "f7369907",
   "metadata": {},
   "outputs": [
    {
     "data": {
      "text/plain": [
       "{25, 45, 60, 80, 85, 100, 105, 120, 140}"
      ]
     },
     "execution_count": 98,
     "metadata": {},
     "output_type": "execute_result"
    }
   ],
   "source": [
    "setA.discard(65)\n",
    "setA"
   ]
  },
  {
   "cell_type": "markdown",
   "id": "426ed4c2",
   "metadata": {},
   "source": [
    "pop() can remove a random element from the set"
   ]
  },
  {
   "cell_type": "code",
   "execution_count": 99,
   "id": "636b0729",
   "metadata": {},
   "outputs": [
    {
     "data": {
      "text/plain": [
       "{25, 45, 60, 80, 85, 105, 120, 140}"
      ]
     },
     "execution_count": 99,
     "metadata": {},
     "output_type": "execute_result"
    }
   ],
   "source": [
    "setA.pop()\n",
    "\n",
    "setA\n",
    "\n",
    "# In this case, it removed 100."
   ]
  }
 ],
 "metadata": {
  "kernelspec": {
   "display_name": "Python 3",
   "language": "python",
   "name": "python3"
  },
  "language_info": {
   "codemirror_mode": {
    "name": "ipython",
    "version": 3
   },
   "file_extension": ".py",
   "mimetype": "text/x-python",
   "name": "python",
   "nbconvert_exporter": "python",
   "pygments_lexer": "ipython3",
   "version": "3.8.8"
  }
 },
 "nbformat": 4,
 "nbformat_minor": 5
}
